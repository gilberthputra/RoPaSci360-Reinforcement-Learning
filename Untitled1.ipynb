{
 "cells": [
  {
   "cell_type": "code",
   "execution_count": 1,
   "id": "214ca895-8952-4ad0-bea5-acbcabfed298",
   "metadata": {},
   "outputs": [],
   "source": [
    "import tensorflow as tf\n",
    "\n",
    "from rps_env_v1 import *"
   ]
  },
  {
   "cell_type": "code",
   "execution_count": 2,
   "id": "4aca2db7-d9de-46e4-ba2d-3e1f8c504ac7",
   "metadata": {},
   "outputs": [
    {
     "name": "stdout",
     "output_type": "stream",
     "text": [
      "(array([[0, 0, 0, 0, 0, 0, 0, 0, 0],\n",
      "       [0, 0, 0, 0, 0, 0, 0, 0, 0],\n",
      "       [0, 0, 0, 0, 0, 0, 0, 0, 0],\n",
      "       [0, 0, 0, 0, 0, 0, 0, 0, 0],\n",
      "       [0, 0, 0, 0, 0, 0, 0, 0, 0],\n",
      "       [0, 0, 0, 0, 0, 0, 0, 0, 0],\n",
      "       [0, 0, 0, 0, 0, 0, 0, 0, 0],\n",
      "       [0, 0, 0, 0, 0, 0, 0, 0, 0],\n",
      "       [0, 0, 0, 0, 0, 0, 0, 0, 0]], dtype=int8), -10, False, {'turn': 0, 'moves': [], 'player': 'upper', 'state': 'running'})\n"
     ]
    }
   ],
   "source": [
    "env = RoPaSci360()\n",
    "env.reset()\n",
    "env.observation_space.sample()\n",
    "print(env.step([0,0,0]))"
   ]
  },
  {
   "cell_type": "code",
   "execution_count": 3,
   "id": "d4d44b19-5a8a-454f-999e-9fe79066f0b0",
   "metadata": {},
   "outputs": [
    {
     "name": "stdout",
     "output_type": "stream",
     "text": [
      "WARNING:tensorflow:\n",
      "The TensorFlow contrib module will not be included in TensorFlow 2.0.\n",
      "For more information, please see:\n",
      "  * https://github.com/tensorflow/community/blob/master/rfcs/20180907-contrib-sunset.md\n",
      "  * https://github.com/tensorflow/addons\n",
      "  * https://github.com/tensorflow/io (for I/O related ops)\n",
      "If you depend on functionality not listed there, please file an issue.\n",
      "\n"
     ]
    }
   ],
   "source": [
    "import os\n",
    "from stable_baselines.bench import Monitor\n",
    "from stable_baselines.common.vec_env import DummyVecEnv\n",
    "\n",
    "log_dir = \"ppo/\"\n",
    "os.makedirs(log_dir, exist_ok = True)\n",
    "\n",
    "monitor_env = Monitor(env, log_dir, allow_early_resets = True)\n",
    "\n",
    "vec_env = DummyVecEnv([lambda: monitor_env])"
   ]
  },
  {
   "cell_type": "code",
   "execution_count": 4,
   "id": "7764be9e-c384-4a40-907a-510a3724e163",
   "metadata": {},
   "outputs": [
    {
     "name": "stderr",
     "output_type": "stream",
     "text": [
      "C:\\Users\\Harmonis\\.conda\\envs\\tf-gpu\\lib\\site-packages\\stable_baselines3\\common\\env_checker.py:220: UserWarning: Your observation has an unconventional shape (neither an image, nor a 1D vector). We recommend you to flatten the observation to have only a 1D vector\n",
      "  \"Your observation has an unconventional shape (neither an image, nor a 1D vector). \"\n"
     ]
    },
    {
     "ename": "AssertionError",
     "evalue": "The observation returned by the `reset()` method does not match the given observation space",
     "output_type": "error",
     "traceback": [
      "\u001b[1;31m---------------------------------------------------------------------------\u001b[0m",
      "\u001b[1;31mAssertionError\u001b[0m                            Traceback (most recent call last)",
      "\u001b[1;32m<ipython-input-4-ab1009e8894c>\u001b[0m in \u001b[0;36m<module>\u001b[1;34m\u001b[0m\n\u001b[0;32m      4\u001b[0m \u001b[1;32mfrom\u001b[0m \u001b[0mstable_baselines3\u001b[0m\u001b[1;33m.\u001b[0m\u001b[0mcommon\u001b[0m\u001b[1;33m.\u001b[0m\u001b[0menv_checker\u001b[0m \u001b[1;32mimport\u001b[0m \u001b[0mcheck_env\u001b[0m\u001b[1;33m\u001b[0m\u001b[1;33m\u001b[0m\u001b[0m\n\u001b[0;32m      5\u001b[0m \u001b[1;33m\u001b[0m\u001b[0m\n\u001b[1;32m----> 6\u001b[1;33m \u001b[0mcheck_env\u001b[0m\u001b[1;33m(\u001b[0m\u001b[0menv\u001b[0m\u001b[1;33m)\u001b[0m\u001b[1;33m\u001b[0m\u001b[1;33m\u001b[0m\u001b[0m\n\u001b[0m",
      "\u001b[1;32m~\\.conda\\envs\\tf-gpu\\lib\\site-packages\\stable_baselines3\\common\\env_checker.py\u001b[0m in \u001b[0;36mcheck_env\u001b[1;34m(env, warn, skip_render_check)\u001b[0m\n\u001b[0;32m    235\u001b[0m \u001b[1;33m\u001b[0m\u001b[0m\n\u001b[0;32m    236\u001b[0m     \u001b[1;31m# ============ Check the returned values ===============\u001b[0m\u001b[1;33m\u001b[0m\u001b[1;33m\u001b[0m\u001b[1;33m\u001b[0m\u001b[0m\n\u001b[1;32m--> 237\u001b[1;33m     \u001b[0m_check_returned_values\u001b[0m\u001b[1;33m(\u001b[0m\u001b[0menv\u001b[0m\u001b[1;33m,\u001b[0m \u001b[0mobservation_space\u001b[0m\u001b[1;33m,\u001b[0m \u001b[0maction_space\u001b[0m\u001b[1;33m)\u001b[0m\u001b[1;33m\u001b[0m\u001b[1;33m\u001b[0m\u001b[0m\n\u001b[0m\u001b[0;32m    238\u001b[0m \u001b[1;33m\u001b[0m\u001b[0m\n\u001b[0;32m    239\u001b[0m     \u001b[1;31m# ==== Check the render method and the declared render modes ====\u001b[0m\u001b[1;33m\u001b[0m\u001b[1;33m\u001b[0m\u001b[1;33m\u001b[0m\u001b[0m\n",
      "\u001b[1;32m~\\.conda\\envs\\tf-gpu\\lib\\site-packages\\stable_baselines3\\common\\env_checker.py\u001b[0m in \u001b[0;36m_check_returned_values\u001b[1;34m(env, observation_space, action_space)\u001b[0m\n\u001b[0;32m    112\u001b[0m     \u001b[0mobs\u001b[0m \u001b[1;33m=\u001b[0m \u001b[0menv\u001b[0m\u001b[1;33m.\u001b[0m\u001b[0mreset\u001b[0m\u001b[1;33m(\u001b[0m\u001b[1;33m)\u001b[0m\u001b[1;33m\u001b[0m\u001b[1;33m\u001b[0m\u001b[0m\n\u001b[0;32m    113\u001b[0m \u001b[1;33m\u001b[0m\u001b[0m\n\u001b[1;32m--> 114\u001b[1;33m     \u001b[0m_check_obs\u001b[0m\u001b[1;33m(\u001b[0m\u001b[0mobs\u001b[0m\u001b[1;33m,\u001b[0m \u001b[0mobservation_space\u001b[0m\u001b[1;33m,\u001b[0m \u001b[1;34m\"reset\"\u001b[0m\u001b[1;33m)\u001b[0m\u001b[1;33m\u001b[0m\u001b[1;33m\u001b[0m\u001b[0m\n\u001b[0m\u001b[0;32m    115\u001b[0m \u001b[1;33m\u001b[0m\u001b[0m\n\u001b[0;32m    116\u001b[0m     \u001b[1;31m# Sample a random action\u001b[0m\u001b[1;33m\u001b[0m\u001b[1;33m\u001b[0m\u001b[1;33m\u001b[0m\u001b[0m\n",
      "\u001b[1;32m~\\.conda\\envs\\tf-gpu\\lib\\site-packages\\stable_baselines3\\common\\env_checker.py\u001b[0m in \u001b[0;36m_check_obs\u001b[1;34m(obs, observation_space, method_name)\u001b[0m\n\u001b[0;32m    102\u001b[0m     assert observation_space.contains(\n\u001b[0;32m    103\u001b[0m         \u001b[0mobs\u001b[0m\u001b[1;33m\u001b[0m\u001b[1;33m\u001b[0m\u001b[0m\n\u001b[1;32m--> 104\u001b[1;33m     ), \"The observation returned by the `{}()` method does not match the given observation space\".format(method_name)\n\u001b[0m\u001b[0;32m    105\u001b[0m \u001b[1;33m\u001b[0m\u001b[0m\n\u001b[0;32m    106\u001b[0m \u001b[1;33m\u001b[0m\u001b[0m\n",
      "\u001b[1;31mAssertionError\u001b[0m: The observation returned by the `reset()` method does not match the given observation space"
     ]
    }
   ],
   "source": [
    "from stable_baselines import PPO1 \n",
    "from stable_baselines.a2c.utils import conv, linear, conv_to_fc\n",
    "from stable_baselines.common.policies import CnnPolicy, MlpPolicy, ActorCriticPolicy\n",
    "from stable_baselines3.common.env_checker import check_env\n",
    "\n",
    "check_env(env)"
   ]
  },
  {
   "cell_type": "code",
   "execution_count": null,
   "id": "2a35f79d-52fa-45be-803f-13a94d8cee68",
   "metadata": {},
   "outputs": [],
   "source": [
    "from gym.spaces import MultiDiscrete"
   ]
  },
  {
   "cell_type": "code",
   "execution_count": 19,
   "id": "e096f2ea-ed9d-477e-8a2b-af8222a48f2d",
   "metadata": {},
   "outputs": [
    {
     "data": {
      "text/plain": [
       "array([ 0, 58, 18], dtype=int64)"
      ]
     },
     "execution_count": 19,
     "metadata": {},
     "output_type": "execute_result"
    }
   ],
   "source": [
    "MultiDiscrete([3, 61, 61]).sample()"
   ]
  },
  {
   "cell_type": "code",
   "execution_count": 6,
   "id": "7b694e46-1285-4bfc-a0ba-4aa7c65c2567",
   "metadata": {},
   "outputs": [
    {
     "data": {
      "text/plain": [
       "numpy.ndarray"
      ]
     },
     "execution_count": 6,
     "metadata": {},
     "output_type": "execute_result"
    }
   ],
   "source": [
    "type(Box(np.float32(0), np.float32(1),shape=(9, 9), dtype=np.int8).sample())"
   ]
  },
  {
   "cell_type": "code",
   "execution_count": 4,
   "id": "372dd8dd-33b4-48e6-a138-9a14e2593155",
   "metadata": {},
   "outputs": [
    {
     "data": {
      "text/plain": [
       "array([[[0., 0., 0.],\n",
       "        [0., 0., 0.],\n",
       "        [0., 0., 0.]],\n",
       "\n",
       "       [[0., 0., 0.],\n",
       "        [0., 0., 0.],\n",
       "        [0., 0., 0.]],\n",
       "\n",
       "       [[0., 0., 0.],\n",
       "        [0., 0., 0.],\n",
       "        [0., 0., 0.]]])"
      ]
     },
     "execution_count": 4,
     "metadata": {},
     "output_type": "execute_result"
    }
   ],
   "source": [
    "np.zeros((3, 3, 3))"
   ]
  },
  {
   "cell_type": "code",
   "execution_count": 5,
   "id": "b0c7fe8a-fb97-4a03-abd0-0a8809501ae7",
   "metadata": {},
   "outputs": [
    {
     "data": {
      "text/plain": [
       "array([[[0.5422733 , 0.15810835, 0.2683392 ],\n",
       "        [0.20750979, 0.7357096 , 0.8935893 ],\n",
       "        [0.7418948 , 0.9786907 , 0.6913613 ],\n",
       "        ...,\n",
       "        [0.7345488 , 0.01167822, 0.24824335],\n",
       "        [0.16598761, 0.44067514, 0.7561274 ],\n",
       "        [0.82883906, 0.0322895 , 0.6798708 ]],\n",
       "\n",
       "       [[0.99346817, 0.22050758, 0.9181926 ],\n",
       "        [0.81349576, 0.31983775, 0.78548294],\n",
       "        [0.90276045, 0.16959734, 0.28494295],\n",
       "        ...,\n",
       "        [0.50845957, 0.24167222, 0.301182  ],\n",
       "        [0.697696  , 0.03263535, 0.9983528 ],\n",
       "        [0.95343626, 0.7213443 , 0.47299153]],\n",
       "\n",
       "       [[0.56420416, 0.8254009 , 0.62581074],\n",
       "        [0.87477696, 0.12736417, 0.21627474],\n",
       "        [0.12728852, 0.32437494, 0.84343445],\n",
       "        ...,\n",
       "        [0.7495594 , 0.4277336 , 0.9450743 ],\n",
       "        [0.7237801 , 0.06298186, 0.3380576 ],\n",
       "        [0.87431014, 0.38299134, 0.46660075]],\n",
       "\n",
       "       ...,\n",
       "\n",
       "       [[0.0918851 , 0.9795517 , 0.42634964],\n",
       "        [0.84694463, 0.64946014, 0.44493717],\n",
       "        [0.8098897 , 0.77245164, 0.02862162],\n",
       "        ...,\n",
       "        [0.40658152, 0.49727613, 0.2565559 ],\n",
       "        [0.51557064, 0.17489578, 0.616849  ],\n",
       "        [0.59622645, 0.77154386, 0.16080496]],\n",
       "\n",
       "       [[0.64520574, 0.23479879, 0.4233608 ],\n",
       "        [0.5400135 , 0.5743872 , 0.5561834 ],\n",
       "        [0.7274769 , 0.796753  , 0.06513707],\n",
       "        ...,\n",
       "        [0.22721653, 0.636149  , 0.03436202],\n",
       "        [0.7402982 , 0.99875635, 0.13361058],\n",
       "        [0.9968501 , 0.9684679 , 0.19172391]],\n",
       "\n",
       "       [[0.24110252, 0.60365844, 0.20948842],\n",
       "        [0.22947253, 0.82544565, 0.06099169],\n",
       "        [0.75410026, 0.6773873 , 0.99097824],\n",
       "        ...,\n",
       "        [0.98017347, 0.80853856, 0.10628303],\n",
       "        [0.79222447, 0.32560968, 0.35654023],\n",
       "        [0.9118191 , 0.95810086, 0.29296392]]], dtype=float32)"
      ]
     },
     "execution_count": 5,
     "metadata": {},
     "output_type": "execute_result"
    }
   ],
   "source": [
    "Box(low=0, high=1, shape=[128,128,3], dtype=np.float32).sample()"
   ]
  },
  {
   "cell_type": "code",
   "execution_count": 7,
   "id": "218f3629-4801-49ea-90f0-f782afa0ed6f",
   "metadata": {},
   "outputs": [],
   "source": [
    "def build_model(states, actions):\n",
    "    model = Sequential()    \n",
    "    model.add(Dense(24, activation='relu', input_shape=states))\n",
    "    model.add(Dense(24, activation='relu'))\n",
    "    model.add(Dense(actions, activation='linear'))\n",
    "    return model"
   ]
  },
  {
   "cell_type": "code",
   "execution_count": 9,
   "id": "f90b5527-4512-42fa-b900-6d8cb9f75cbb",
   "metadata": {},
   "outputs": [
    {
     "ename": "AttributeError",
     "evalue": "'MultiDiscrete' object has no attribute 'n'",
     "output_type": "error",
     "traceback": [
      "\u001b[1;31m---------------------------------------------------------------------------\u001b[0m",
      "\u001b[1;31mAttributeError\u001b[0m                            Traceback (most recent call last)",
      "\u001b[1;32m<ipython-input-9-cbfffc906689>\u001b[0m in \u001b[0;36m<module>\u001b[1;34m\u001b[0m\n\u001b[1;32m----> 1\u001b[1;33m \u001b[0menv\u001b[0m\u001b[1;33m.\u001b[0m\u001b[0maction_space\u001b[0m\u001b[1;33m.\u001b[0m\u001b[0mn\u001b[0m\u001b[1;33m\u001b[0m\u001b[1;33m\u001b[0m\u001b[0m\n\u001b[0m",
      "\u001b[1;31mAttributeError\u001b[0m: 'MultiDiscrete' object has no attribute 'n'"
     ]
    }
   ],
   "source": [
    "env.action_space.n"
   ]
  },
  {
   "cell_type": "code",
   "execution_count": null,
   "id": "8da26a67-f435-431b-ac78-8240dae58cd0",
   "metadata": {},
   "outputs": [],
   "source": []
  }
 ],
 "metadata": {
  "kernelspec": {
   "display_name": "Python 3",
   "language": "python",
   "name": "python3"
  },
  "language_info": {
   "codemirror_mode": {
    "name": "ipython",
    "version": 3
   },
   "file_extension": ".py",
   "mimetype": "text/x-python",
   "name": "python",
   "nbconvert_exporter": "python",
   "pygments_lexer": "ipython3",
   "version": "3.7.10"
  }
 },
 "nbformat": 4,
 "nbformat_minor": 5
}
