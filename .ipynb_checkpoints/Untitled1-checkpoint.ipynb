{
 "cells": [
  {
   "cell_type": "code",
   "execution_count": 2,
   "id": "214ca895-8952-4ad0-bea5-acbcabfed298",
   "metadata": {},
   "outputs": [],
   "source": [
    "import tensorflow as tf\n",
    "\n",
    "from rps_env_v1 import *"
   ]
  },
  {
   "cell_type": "code",
   "execution_count": 3,
   "id": "4aca2db7-d9de-46e4-ba2d-3e1f8c504ac7",
   "metadata": {},
   "outputs": [
    {
     "data": {
      "text/plain": [
       "array([[0, 0, 0, 0, 0, 0, 0, 0, 0],\n",
       "       [0, 0, 0, 0, 0, 0, 0, 0, 0],\n",
       "       [0, 0, 0, 0, 0, 0, 0, 0, 0],\n",
       "       [0, 0, 0, 0, 0, 0, 0, 0, 0],\n",
       "       [0, 0, 0, 0, 0, 0, 0, 0, 0],\n",
       "       [0, 0, 0, 0, 0, 0, 0, 0, 0],\n",
       "       [0, 0, 0, 0, 0, 0, 0, 0, 0],\n",
       "       [0, 0, 0, 0, 0, 0, 0, 0, 0],\n",
       "       [0, 0, 0, 0, 0, 0, 0, 0, 0]], dtype=int8)"
      ]
     },
     "execution_count": 3,
     "metadata": {},
     "output_type": "execute_result"
    }
   ],
   "source": [
    "env = RoPaSci360()\n",
    "env.reset()\n",
    "env.observation_space.sample()\n",
    "print(env.board)"
   ]
  },
  {
   "cell_type": "code",
   "execution_count": 3,
   "id": "d4d44b19-5a8a-454f-999e-9fe79066f0b0",
   "metadata": {},
   "outputs": [
    {
     "name": "stdout",
     "output_type": "stream",
     "text": [
      "WARNING:tensorflow:\n",
      "The TensorFlow contrib module will not be included in TensorFlow 2.0.\n",
      "For more information, please see:\n",
      "  * https://github.com/tensorflow/community/blob/master/rfcs/20180907-contrib-sunset.md\n",
      "  * https://github.com/tensorflow/addons\n",
      "  * https://github.com/tensorflow/io (for I/O related ops)\n",
      "If you depend on functionality not listed there, please file an issue.\n",
      "\n"
     ]
    }
   ],
   "source": [
    "import os\n",
    "from stable_baselines.bench import Monitor\n",
    "from stable_baselines.common.vec_env import DummyVecEnv\n",
    "\n",
    "log_dir = \"ppo/\"\n",
    "os.makedirs(log_dir, exist_ok = True)\n",
    "\n",
    "monitor_env = Monitor(env, log_dir, allow_early_resets = True)\n",
    "\n",
    "vec_env = DummyVecEnv([lambda: monitor_env])"
   ]
  },
  {
   "cell_type": "code",
   "execution_count": 5,
   "id": "7764be9e-c384-4a40-907a-510a3724e163",
   "metadata": {},
   "outputs": [
    {
     "name": "stdout",
     "output_type": "stream",
     "text": [
      "********** Iteration 0 ************\n"
     ]
    },
    {
     "ename": "AttributeError",
     "evalue": "'NoneType' object has no attribute 'reshape'",
     "output_type": "error",
     "traceback": [
      "\u001b[1;31m---------------------------------------------------------------------------\u001b[0m",
      "\u001b[1;31mAttributeError\u001b[0m                            Traceback (most recent call last)",
      "\u001b[1;32m<ipython-input-5-bce05e3212b7>\u001b[0m in \u001b[0;36m<module>\u001b[1;34m\u001b[0m\n\u001b[0;32m     23\u001b[0m \u001b[1;33m\u001b[0m\u001b[0m\n\u001b[0;32m     24\u001b[0m \u001b[0mmodel\u001b[0m \u001b[1;33m=\u001b[0m \u001b[0mPPO1\u001b[0m\u001b[1;33m(\u001b[0m\u001b[0mMlpPolicy\u001b[0m\u001b[1;33m,\u001b[0m \u001b[0menv\u001b[0m\u001b[1;33m,\u001b[0m \u001b[0mverbose\u001b[0m\u001b[1;33m=\u001b[0m\u001b[1;36m1\u001b[0m\u001b[1;33m)\u001b[0m\u001b[1;33m\u001b[0m\u001b[1;33m\u001b[0m\u001b[0m\n\u001b[1;32m---> 25\u001b[1;33m \u001b[0mmodel\u001b[0m\u001b[1;33m.\u001b[0m\u001b[0mlearn\u001b[0m\u001b[1;33m(\u001b[0m\u001b[0mtotal_timesteps\u001b[0m\u001b[1;33m=\u001b[0m\u001b[1;36m100\u001b[0m\u001b[1;33m)\u001b[0m\u001b[1;33m\u001b[0m\u001b[1;33m\u001b[0m\u001b[0m\n\u001b[0m\u001b[0;32m     26\u001b[0m \u001b[0mmodel\u001b[0m\u001b[1;33m.\u001b[0m\u001b[0msave\u001b[0m\u001b[1;33m(\u001b[0m\u001b[1;34m\"ppo1_rps\"\u001b[0m\u001b[1;33m)\u001b[0m\u001b[1;33m\u001b[0m\u001b[1;33m\u001b[0m\u001b[0m\n",
      "\u001b[1;32m~\\.conda\\envs\\tf-gpu\\lib\\site-packages\\stable_baselines\\ppo1\\pposgd_simple.py\u001b[0m in \u001b[0;36mlearn\u001b[1;34m(self, total_timesteps, callback, seed, log_interval, tb_log_name, reset_num_timesteps)\u001b[0m\n\u001b[0;32m    236\u001b[0m                     \u001b[0mlogger\u001b[0m\u001b[1;33m.\u001b[0m\u001b[0mlog\u001b[0m\u001b[1;33m(\u001b[0m\u001b[1;34m\"********** Iteration %i ************\"\u001b[0m \u001b[1;33m%\u001b[0m \u001b[0miters_so_far\u001b[0m\u001b[1;33m)\u001b[0m\u001b[1;33m\u001b[0m\u001b[1;33m\u001b[0m\u001b[0m\n\u001b[0;32m    237\u001b[0m \u001b[1;33m\u001b[0m\u001b[0m\n\u001b[1;32m--> 238\u001b[1;33m                     \u001b[0mseg\u001b[0m \u001b[1;33m=\u001b[0m \u001b[0mseg_gen\u001b[0m\u001b[1;33m.\u001b[0m\u001b[0m__next__\u001b[0m\u001b[1;33m(\u001b[0m\u001b[1;33m)\u001b[0m\u001b[1;33m\u001b[0m\u001b[1;33m\u001b[0m\u001b[0m\n\u001b[0m\u001b[0;32m    239\u001b[0m                     \u001b[0madd_vtarg_and_adv\u001b[0m\u001b[1;33m(\u001b[0m\u001b[0mseg\u001b[0m\u001b[1;33m,\u001b[0m \u001b[0mself\u001b[0m\u001b[1;33m.\u001b[0m\u001b[0mgamma\u001b[0m\u001b[1;33m,\u001b[0m \u001b[0mself\u001b[0m\u001b[1;33m.\u001b[0m\u001b[0mlam\u001b[0m\u001b[1;33m)\u001b[0m\u001b[1;33m\u001b[0m\u001b[1;33m\u001b[0m\u001b[0m\n\u001b[0;32m    240\u001b[0m \u001b[1;33m\u001b[0m\u001b[0m\n",
      "\u001b[1;32m~\\.conda\\envs\\tf-gpu\\lib\\site-packages\\stable_baselines\\trpo_mpi\\utils.py\u001b[0m in \u001b[0;36mtraj_segment_generator\u001b[1;34m(policy, env, horizon, reward_giver, gail)\u001b[0m\n\u001b[0;32m     58\u001b[0m \u001b[1;33m\u001b[0m\u001b[0m\n\u001b[0;32m     59\u001b[0m     \u001b[1;32mwhile\u001b[0m \u001b[1;32mTrue\u001b[0m\u001b[1;33m:\u001b[0m\u001b[1;33m\u001b[0m\u001b[1;33m\u001b[0m\u001b[0m\n\u001b[1;32m---> 60\u001b[1;33m         \u001b[0maction\u001b[0m\u001b[1;33m,\u001b[0m \u001b[0mvpred\u001b[0m\u001b[1;33m,\u001b[0m \u001b[0mstates\u001b[0m\u001b[1;33m,\u001b[0m \u001b[0m_\u001b[0m \u001b[1;33m=\u001b[0m \u001b[0mpolicy\u001b[0m\u001b[1;33m.\u001b[0m\u001b[0mstep\u001b[0m\u001b[1;33m(\u001b[0m\u001b[0mobservation\u001b[0m\u001b[1;33m.\u001b[0m\u001b[0mreshape\u001b[0m\u001b[1;33m(\u001b[0m\u001b[1;33m-\u001b[0m\u001b[1;36m1\u001b[0m\u001b[1;33m,\u001b[0m \u001b[1;33m*\u001b[0m\u001b[0mobservation\u001b[0m\u001b[1;33m.\u001b[0m\u001b[0mshape\u001b[0m\u001b[1;33m)\u001b[0m\u001b[1;33m,\u001b[0m \u001b[0mstates\u001b[0m\u001b[1;33m,\u001b[0m \u001b[0mdone\u001b[0m\u001b[1;33m)\u001b[0m\u001b[1;33m\u001b[0m\u001b[1;33m\u001b[0m\u001b[0m\n\u001b[0m\u001b[0;32m     61\u001b[0m         \u001b[1;31m# Slight weirdness here because we need value function at time T\u001b[0m\u001b[1;33m\u001b[0m\u001b[1;33m\u001b[0m\u001b[1;33m\u001b[0m\u001b[0m\n\u001b[0;32m     62\u001b[0m         \u001b[1;31m# before returning segment [0, T-1] so we get the correct\u001b[0m\u001b[1;33m\u001b[0m\u001b[1;33m\u001b[0m\u001b[1;33m\u001b[0m\u001b[0m\n",
      "\u001b[1;31mAttributeError\u001b[0m: 'NoneType' object has no attribute 'reshape'"
     ]
    }
   ],
   "source": [
    "from stable_baselines import PPO1 \n",
    "from stable_baselines.a2c.utils import conv, linear, conv_to_fc\n",
    "from stable_baselines.common.policies import CnnPolicy, MlpPolicy\n",
    "from stable_baselines.common.policies import MlpPolicy\n",
    "\n",
    "\n",
    "# Neural network for predicting action values\n",
    "def modified_cnn(scaled_images, **kwargs):\n",
    "    activ = tf.nn.relu\n",
    "    layer_1 = activ(conv(scaled_images, 'c1', n_filters=32, filter_size=3, stride=1, \n",
    "                         init_scale=np.sqrt(2), **kwargs))\n",
    "    layer_2 = activ(conv(layer_1, 'c2', n_filters=64, filter_size=3, stride=1, \n",
    "                         init_scale=np.sqrt(2), **kwargs))\n",
    "    layer_2 = conv_to_fc(layer_2)\n",
    "    return activ(linear(layer_2, 'fc1', n_hidden=512, init_scale=np.sqrt(2)))  \n",
    "\n",
    "class CustomCnnPolicy(CnnPolicy):\n",
    "    def __init__(self, *args, **kwargs):\n",
    "        super(CustomCnnPolicy, self).__init__(*args, **kwargs, cnn_extractor=modified_cnn)\n",
    "        \n",
    "# Initialize agent\n",
    "#model = PPO1(CustomCnnPolicy, vec_env, verbose=0)\n",
    "\n",
    "model = PPO1(MlpPolicy, env, verbose=1)\n",
    "model.learn(total_timesteps=100)\n",
    "model.save(\"ppo1_rps\")"
   ]
  },
  {
   "cell_type": "code",
   "execution_count": null,
   "id": "2a35f79d-52fa-45be-803f-13a94d8cee68",
   "metadata": {},
   "outputs": [],
   "source": [
    "from gym.spaces import MultiDiscrete"
   ]
  },
  {
   "cell_type": "code",
   "execution_count": 19,
   "id": "e096f2ea-ed9d-477e-8a2b-af8222a48f2d",
   "metadata": {},
   "outputs": [
    {
     "data": {
      "text/plain": [
       "array([ 0, 58, 18], dtype=int64)"
      ]
     },
     "execution_count": 19,
     "metadata": {},
     "output_type": "execute_result"
    }
   ],
   "source": [
    "MultiDiscrete([3, 61, 61]).sample()"
   ]
  },
  {
   "cell_type": "code",
   "execution_count": 3,
   "id": "7b694e46-1285-4bfc-a0ba-4aa7c65c2567",
   "metadata": {},
   "outputs": [
    {
     "data": {
      "text/plain": [
       "array([[[0.94620496, 0.45161963, 0.37523532],\n",
       "        [0.9430931 , 0.40228784, 0.75245816],\n",
       "        [0.2184341 , 0.658101  , 0.40394497]],\n",
       "\n",
       "       [[0.96189237, 0.4437091 , 0.52825993],\n",
       "        [0.17310274, 0.5436116 , 0.11941195],\n",
       "        [0.29465532, 0.30951017, 0.6785518 ]],\n",
       "\n",
       "       [[0.18014461, 0.02367575, 0.7000637 ],\n",
       "        [0.24747486, 0.6074272 , 0.84300876],\n",
       "        [0.7112384 , 0.33156976, 0.59510714]]], dtype=float32)"
      ]
     },
     "execution_count": 3,
     "metadata": {},
     "output_type": "execute_result"
    }
   ],
   "source": [
    "Box(np.float32(0), np.float32(1),shape=(3, 3, 3)).sample()"
   ]
  },
  {
   "cell_type": "code",
   "execution_count": 4,
   "id": "372dd8dd-33b4-48e6-a138-9a14e2593155",
   "metadata": {},
   "outputs": [
    {
     "data": {
      "text/plain": [
       "array([[[0., 0., 0.],\n",
       "        [0., 0., 0.],\n",
       "        [0., 0., 0.]],\n",
       "\n",
       "       [[0., 0., 0.],\n",
       "        [0., 0., 0.],\n",
       "        [0., 0., 0.]],\n",
       "\n",
       "       [[0., 0., 0.],\n",
       "        [0., 0., 0.],\n",
       "        [0., 0., 0.]]])"
      ]
     },
     "execution_count": 4,
     "metadata": {},
     "output_type": "execute_result"
    }
   ],
   "source": [
    "np.zeros((3, 3, 3))"
   ]
  },
  {
   "cell_type": "code",
   "execution_count": 5,
   "id": "b0c7fe8a-fb97-4a03-abd0-0a8809501ae7",
   "metadata": {},
   "outputs": [
    {
     "data": {
      "text/plain": [
       "array([[[0.5422733 , 0.15810835, 0.2683392 ],\n",
       "        [0.20750979, 0.7357096 , 0.8935893 ],\n",
       "        [0.7418948 , 0.9786907 , 0.6913613 ],\n",
       "        ...,\n",
       "        [0.7345488 , 0.01167822, 0.24824335],\n",
       "        [0.16598761, 0.44067514, 0.7561274 ],\n",
       "        [0.82883906, 0.0322895 , 0.6798708 ]],\n",
       "\n",
       "       [[0.99346817, 0.22050758, 0.9181926 ],\n",
       "        [0.81349576, 0.31983775, 0.78548294],\n",
       "        [0.90276045, 0.16959734, 0.28494295],\n",
       "        ...,\n",
       "        [0.50845957, 0.24167222, 0.301182  ],\n",
       "        [0.697696  , 0.03263535, 0.9983528 ],\n",
       "        [0.95343626, 0.7213443 , 0.47299153]],\n",
       "\n",
       "       [[0.56420416, 0.8254009 , 0.62581074],\n",
       "        [0.87477696, 0.12736417, 0.21627474],\n",
       "        [0.12728852, 0.32437494, 0.84343445],\n",
       "        ...,\n",
       "        [0.7495594 , 0.4277336 , 0.9450743 ],\n",
       "        [0.7237801 , 0.06298186, 0.3380576 ],\n",
       "        [0.87431014, 0.38299134, 0.46660075]],\n",
       "\n",
       "       ...,\n",
       "\n",
       "       [[0.0918851 , 0.9795517 , 0.42634964],\n",
       "        [0.84694463, 0.64946014, 0.44493717],\n",
       "        [0.8098897 , 0.77245164, 0.02862162],\n",
       "        ...,\n",
       "        [0.40658152, 0.49727613, 0.2565559 ],\n",
       "        [0.51557064, 0.17489578, 0.616849  ],\n",
       "        [0.59622645, 0.77154386, 0.16080496]],\n",
       "\n",
       "       [[0.64520574, 0.23479879, 0.4233608 ],\n",
       "        [0.5400135 , 0.5743872 , 0.5561834 ],\n",
       "        [0.7274769 , 0.796753  , 0.06513707],\n",
       "        ...,\n",
       "        [0.22721653, 0.636149  , 0.03436202],\n",
       "        [0.7402982 , 0.99875635, 0.13361058],\n",
       "        [0.9968501 , 0.9684679 , 0.19172391]],\n",
       "\n",
       "       [[0.24110252, 0.60365844, 0.20948842],\n",
       "        [0.22947253, 0.82544565, 0.06099169],\n",
       "        [0.75410026, 0.6773873 , 0.99097824],\n",
       "        ...,\n",
       "        [0.98017347, 0.80853856, 0.10628303],\n",
       "        [0.79222447, 0.32560968, 0.35654023],\n",
       "        [0.9118191 , 0.95810086, 0.29296392]]], dtype=float32)"
      ]
     },
     "execution_count": 5,
     "metadata": {},
     "output_type": "execute_result"
    }
   ],
   "source": [
    "Box(low=0, high=1, shape=[128,128,3], dtype=np.float32).sample()"
   ]
  },
  {
   "cell_type": "code",
   "execution_count": null,
   "id": "218f3629-4801-49ea-90f0-f782afa0ed6f",
   "metadata": {},
   "outputs": [],
   "source": []
  }
 ],
 "metadata": {
  "kernelspec": {
   "display_name": "Python 3",
   "language": "python",
   "name": "python3"
  },
  "language_info": {
   "codemirror_mode": {
    "name": "ipython",
    "version": 3
   },
   "file_extension": ".py",
   "mimetype": "text/x-python",
   "name": "python",
   "nbconvert_exporter": "python",
   "pygments_lexer": "ipython3",
   "version": "3.7.10"
  }
 },
 "nbformat": 4,
 "nbformat_minor": 5
}
