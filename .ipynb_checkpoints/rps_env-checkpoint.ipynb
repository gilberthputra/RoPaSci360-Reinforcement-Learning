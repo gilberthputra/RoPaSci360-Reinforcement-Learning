{
 "cells": [
  {
   "cell_type": "markdown",
   "id": "bbc6ee3b",
   "metadata": {},
   "source": [
    "# Environment for RoPaSci360 board game"
   ]
  },
  {
   "cell_type": "code",
   "execution_count": 2,
   "id": "183f9369",
   "metadata": {},
   "outputs": [],
   "source": [
    "from gym import Env\n",
    "from gym.spaces import Discrete, Box, Dict\n",
    "\n",
    "from ropasci_game import RoPaSci360\n",
    "\n",
    "import tensorflow as tf\n",
    "import numpy as np\n",
    "import random"
   ]
  },
  {
   "cell_type": "code",
   "execution_count": 3,
   "id": "54533053",
   "metadata": {},
   "outputs": [],
   "source": [
    "INVALID_ACTION_REWARD = -10\n",
    "VALID_ACTION_REWARD = 10\n",
    "WIN_REWARD = 100\n",
    "LOSS_REWARD = -100\n",
    "EAT_TOKEN = 10"
   ]
  },
  {
   "cell_type": "code",
   "execution_count": 29,
   "id": "5a97d72d",
   "metadata": {},
   "outputs": [],
   "source": [
    "class RoPaSci360_game(Env):\n",
    "    def __init__(self,\n",
    "                player = 'Upper',\n",
    "                opponent = 'random',\n",
    "                log = 'True'):\n",
    "        \n",
    "        # Constants\n",
    "        self.max_turns = 360\n",
    "        self.log = log\n",
    "                \n",
    "        #\n",
    "        # Observation + Action spaces\n",
    "        # ---------------------------\n",
    "        #  Observations: RoPaSci board containing 61 hexes, with 9 types of maximum number of tokens for each player.\n",
    "        #  Actions: (Every board position) * (Every board position)\n",
    "        #\n",
    "        # Note: not every action is legal\n",
    "        #\n",
    "        \n",
    "        self.action_space = Dict({\"symbol\": Discrete(3), \"position\": Box(0, 61, shape = (2,))})\n",
    "        self.observation_space = Box(low = np.int8(0), high = np.int8(-1), shape = (9, 9), dtype = np.int8)\n",
    "        self.player = player\n",
    "        self.opponent = opponent\n",
    "        self.game = RoPaSci360\n",
    "        \n",
    "    def step(self, action):\n",
    "        assert self.action_space.contains(action), \"ACTION ERROR {}\".format(action)\n",
    "        \n",
    "        symbol = action['symbol']\n",
    "        pos1, pos2 = action['position']\n",
    "        piece = (symbol, pos1, pos2)\n",
    "        print(symbol)\n",
    "        print(pos1, pos2)\n",
    "                \n",
    "    def reset(self):\n",
    "        pass\n",
    "        \n",
    "    def render(self):\n",
    "        pass"
   ]
  },
  {
   "cell_type": "code",
   "execution_count": 30,
   "id": "fa4e794d",
   "metadata": {},
   "outputs": [],
   "source": [
    "env = RoPaSci360_game()"
   ]
  },
  {
   "cell_type": "code",
   "execution_count": 32,
   "id": "5fdb23b5",
   "metadata": {},
   "outputs": [
    {
     "name": "stdout",
     "output_type": "stream",
     "text": [
      "0\n",
      "0\n",
      "14 46\n"
     ]
    }
   ],
   "source": [
    "action = Dict({\"symbol\": Discrete(3), \"position\": Box(0, 61, shape = (2,), dtype = np.uint8)}).sample()\n",
    "print(action['symbol'])\n",
    "env.step(action)"
   ]
  },
  {
   "cell_type": "code",
   "execution_count": 9,
   "id": "35cb2b80",
   "metadata": {},
   "outputs": [
    {
     "data": {
      "text/plain": [
       "array([2, 0], dtype=uint8)"
      ]
     },
     "execution_count": 9,
     "metadata": {},
     "output_type": "execute_result"
    }
   ],
   "source": [
    "Box(0, 8, shape=(2,), dtype=np.uint8).sample()"
   ]
  },
  {
   "cell_type": "code",
   "execution_count": 11,
   "id": "1e236158",
   "metadata": {},
   "outputs": [
    {
     "data": {
      "text/plain": [
       "array([[0, 1, 1, 0, 0, 1, 0, 1, 0],\n",
       "       [1, 0, 1, 0, 1, 1, 1, 0, 0],\n",
       "       [1, 1, 0, 1, 1, 1, 0, 0, 1],\n",
       "       [0, 0, 1, 0, 0, 1, 1, 0, 1],\n",
       "       [0, 0, 0, 0, 0, 0, 0, 0, 1],\n",
       "       [0, 1, 0, 1, 0, 0, 1, 1, 1],\n",
       "       [0, 0, 0, 0, 0, 1, 0, 1, 0],\n",
       "       [1, 0, 0, 1, 0, 0, 1, 1, 1],\n",
       "       [0, 0, 0, 0, 0, 1, 0, 1, 1]], dtype=int8)"
      ]
     },
     "execution_count": 11,
     "metadata": {},
     "output_type": "execute_result"
    }
   ],
   "source": [
    "Box(0, 1, (9, 9), dtype = np.int8).sample()"
   ]
  },
  {
   "cell_type": "code",
   "execution_count": 74,
   "id": "9cb921a3",
   "metadata": {},
   "outputs": [
    {
     "data": {
      "text/plain": [
       "array([[0, 0, 0, 0, 0, 0, 0, 0, 0, 0, 0],\n",
       "       [0, 0, 0, 0, 0, 0, 0, 0, 0, 0, 0],\n",
       "       [0, 0, 0, 0, 0, 0, 0, 0, 0, 0, 0],\n",
       "       [0, 0, 0, 0, 0, 0, 0, 0, 0, 0, 0],\n",
       "       [0, 0, 0, 0, 0, 0, 0, 0, 0, 0, 0],\n",
       "       [0, 0, 0, 0, 0, 0, 0, 0, 0, 0, 0],\n",
       "       [0, 0, 0, 0, 0, 0, 0, 0, 0, 0, 0],\n",
       "       [0, 0, 0, 0, 0, 0, 0, 0, 0, 0, 0],\n",
       "       [0, 0, 0, 0, 0, 0, 0, 0, 0, 0, 0],\n",
       "       [0, 0, 0, 0, 0, 0, 0, 0, 0, 0, 0],\n",
       "       [0, 0, 0, 0, 0, 0, 0, 0, 0, 0, 0]], dtype=int8)"
      ]
     },
     "execution_count": 74,
     "metadata": {},
     "output_type": "execute_result"
    }
   ],
   "source": []
  },
  {
   "cell_type": "code",
   "execution_count": null,
   "id": "d620763f",
   "metadata": {},
   "outputs": [],
   "source": []
  },
  {
   "cell_type": "code",
   "execution_count": null,
   "id": "95d12c1d",
   "metadata": {},
   "outputs": [],
   "source": []
  }
 ],
 "metadata": {
  "kernelspec": {
   "display_name": "Python 3",
   "language": "python",
   "name": "python3"
  },
  "language_info": {
   "codemirror_mode": {
    "name": "ipython",
    "version": 3
   },
   "file_extension": ".py",
   "mimetype": "text/x-python",
   "name": "python",
   "nbconvert_exporter": "python",
   "pygments_lexer": "ipython3",
   "version": "3.8.5"
  }
 },
 "nbformat": 4,
 "nbformat_minor": 5
}
