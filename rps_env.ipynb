{
 "cells": [
  {
   "cell_type": "markdown",
   "id": "bbc6ee3b",
   "metadata": {},
   "source": [
    "# Environment for RoPaSci360 board game"
   ]
  },
  {
   "cell_type": "code",
   "execution_count": 3,
   "id": "183f9369",
   "metadata": {},
   "outputs": [],
   "source": [
    "from gym import Env\n",
    "from gym.spaces import Discrete, Box, Dict\n",
    "\n",
    "from ropasci_game import RoPaSci360\n",
    "\n",
    "import tensorflow as tf\n",
    "import numpy as np\n",
    "import random"
   ]
  },
  {
   "cell_type": "code",
   "execution_count": 4,
   "id": "54533053",
   "metadata": {},
   "outputs": [],
   "source": [
    "INVALID_ACTION_REWARD = -10\n",
    "VALID_ACTION_REWARD = 10\n",
    "WIN_REWARD = 100\n",
    "LOSS_REWARD = -100\n",
    "EAT_TOKEN = 10"
   ]
  },
  {
   "cell_type": "code",
   "execution_count": 56,
   "id": "5a97d72d",
   "metadata": {},
   "outputs": [],
   "source": [
    "class RoPaSci360_game(Env):\n",
    "    def __init__(self,\n",
    "                player = 'upper',\n",
    "                opponent = 'random',\n",
    "                log = 'True'):\n",
    "        \n",
    "        # Constants\n",
    "        self.max_turns = 360\n",
    "        self.log = log\n",
    "                \n",
    "        #\n",
    "        # Observation + Action spaces\n",
    "        # ---------------------------\n",
    "        #  Observations: RoPaSci board containing 61 hexes, with 9 types of maximum number of tokens for each player.\n",
    "        #  Actions: (Every board position) * (Every board position)\n",
    "        #\n",
    "        # Note: not every action is legal\n",
    "        #\n",
    "        \n",
    "        self.action_space = Dict({\"symbol\": Discrete(3), \"position\": Box(0, 61, shape = (2,))})\n",
    "        self.observation_space = Box(low = np.int8(0), high = np.int8(-1), shape = (9, 9), dtype = np.int8)\n",
    "        self.player = player\n",
    "        self.player_2 = self.get_other_player()\n",
    "        self.opponent = opponent\n",
    "        self.game = RoPaSci360()\n",
    "        self.board = self.game.new_board()\n",
    "        self.reset()\n",
    "    \n",
    "    def seed(self ):pass\n",
    "        \n",
    "    def step(self, action):\n",
    "        assert self.action_space.contains(action), \"ACTION ERROR {}\".format(action)\n",
    "        \n",
    "        reward = 0\n",
    "        info = {'turn' : self.game.upper_turns,\n",
    "                'move_type' : None,\n",
    "                'player' : self.player}\n",
    "        \n",
    "        symbol = action['symbol']\n",
    "        pos1, pos2 = action['position']\n",
    "        piece = (symbol, pos1, pos2)\n",
    "        print(symbol)\n",
    "        print(pos1, pos2)\n",
    "                \n",
    "    def reset(self):\n",
    "        self.board = self.game.new_board()\n",
    "        \n",
    "    def render(self):\n",
    "        pass\n",
    "    \n",
    "    def get_other_player(self):\n",
    "        if self.player == 'upper':\n",
    "            return 'lower'\n",
    "        elif self.player == 'lower':\n",
    "            return 'upper'\n",
    "    \n",
    "    def random_agent(self):\n",
    "        possible_moves = self.game.possible_moves(player = self.player_2)\n",
    "        return np.random.choice(possible_moves)"
   ]
  },
  {
   "cell_type": "code",
   "execution_count": 60,
   "id": "fa4e794d",
   "metadata": {},
   "outputs": [
    {
     "name": "stdout",
     "output_type": "stream",
     "text": [
      "lower\n"
     ]
    }
   ],
   "source": [
    "env = RoPaSci360_game()\n",
    "print(env.player_2)"
   ]
  },
  {
   "cell_type": "code",
   "execution_count": 75,
   "id": "5fdb23b5",
   "metadata": {},
   "outputs": [
    {
     "name": "stdout",
     "output_type": "stream",
     "text": [
      "OrderedDict([('lower', array([[0, 0, 0],\n",
      "       [0, 0, 0],\n",
      "       [0, 0, 0],\n",
      "       [0, 0, 0],\n",
      "       [0, 0, 0],\n",
      "       [0, 0, 0],\n",
      "       [0, 0, 0],\n",
      "       [0, 0, 0],\n",
      "       [0, 0, 0]], dtype=int8)), ('upper', array([[0, 0, 0],\n",
      "       [0, 0, 0],\n",
      "       [0, 0, 0],\n",
      "       [0, 0, 0],\n",
      "       [0, 0, 0],\n",
      "       [0, 0, 0],\n",
      "       [0, 0, 0],\n",
      "       [0, 0, 0],\n",
      "       [0, 0, 0]], dtype=int8))])\n"
     ]
    }
   ],
   "source": [
    "obs = Dict({\"upper\": Box(low=np.int8(0), high=np.int8(-1), shape = (9, 3), dtype = np.int8),\n",
    "           'lower': Box(low=np.int8(0), high=np.int8(-1), shape = (9, 3), dtype = np.int8)})\n",
    "print(obs.sample())"
   ]
  },
  {
   "cell_type": "code",
   "execution_count": 78,
   "id": "4a1fad67-0f4a-4082-b4c6-e0a5b8a4636c",
   "metadata": {},
   "outputs": [
    {
     "name": "stdout",
     "output_type": "stream",
     "text": [
      "[[0 0 0]\n",
      " [0 0 0]\n",
      " [0 0 0]\n",
      " [0 0 0]\n",
      " [0 0 0]\n",
      " [0 0 0]\n",
      " [0 0 0]\n",
      " [0 0 0]\n",
      " [0 0 0]]\n"
     ]
    }
   ],
   "source": [
    "print(np.full((9, 3), 0, dtype = np.int8))"
   ]
  },
  {
   "cell_type": "code",
   "execution_count": null,
   "id": "e05c9cce-61c8-49b6-922b-e001cbf5596b",
   "metadata": {},
   "outputs": [],
   "source": []
  },
  {
   "cell_type": "code",
   "execution_count": null,
   "id": "e2d74679-a07d-416f-82f3-960d63fe7a0b",
   "metadata": {},
   "outputs": [],
   "source": []
  }
 ],
 "metadata": {
  "kernelspec": {
   "display_name": "Python 3",
   "language": "python",
   "name": "python3"
  },
  "language_info": {
   "codemirror_mode": {
    "name": "ipython",
    "version": 3
   },
   "file_extension": ".py",
   "mimetype": "text/x-python",
   "name": "python",
   "nbconvert_exporter": "python",
   "pygments_lexer": "ipython3",
   "version": "3.8.5"
  }
 },
 "nbformat": 4,
 "nbformat_minor": 5
}
